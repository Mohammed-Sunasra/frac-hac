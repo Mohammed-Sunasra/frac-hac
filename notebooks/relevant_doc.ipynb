{
 "cells": [
  {
   "cell_type": "code",
   "execution_count": 24,
   "metadata": {},
   "outputs": [],
   "source": [
    "import sys \n",
    "sys.path.append('..')\n",
    "from gensim.summarization.bm25 import BM25, get_bm25_weights\n",
    "from nltk.tokenize import word_tokenize\n",
    "import pandas as pd\n",
    "from textblob import TextBlob\n",
    "from modules.const import CONST"
   ]
  },
  {
   "cell_type": "code",
   "execution_count": 54,
   "metadata": {},
   "outputs": [],
   "source": [
    "dic = {'0':'can you fit make up brushes in the trays',\n",
    "'1':'Can you move all the dividers?',\n",
    "'2':'is the surface in side the smooth?',\n",
    "'3':'How deep do the extending trays measure?',\n",
    "'4':'Can bottles of nail polish stand upright in the top trays when the case is closed?'}"
   ]
  },
  {
   "cell_type": "code",
   "execution_count": 52,
   "metadata": {},
   "outputs": [
    {
     "ename": "SyntaxError",
     "evalue": "invalid syntax (<ipython-input-52-f00a81540cad>, line 1)",
     "output_type": "error",
     "traceback": [
      "\u001b[0;36m  File \u001b[0;32m\"<ipython-input-52-f00a81540cad>\"\u001b[0;36m, line \u001b[0;32m1\u001b[0m\n\u001b[0;31m    [k, v for k, v in dic]\u001b[0m\n\u001b[0m            ^\u001b[0m\n\u001b[0;31mSyntaxError\u001b[0m\u001b[0;31m:\u001b[0m invalid syntax\n"
     ]
    }
   ],
   "source": [
    "[k, v for k, v in dic]"
   ]
  },
  {
   "cell_type": "code",
   "execution_count": 64,
   "metadata": {},
   "outputs": [],
   "source": [
    "df = pd.DataFrame(dic.values(), index=dic.keys(), columns=['question'])"
   ]
  },
  {
   "cell_type": "code",
   "execution_count": 65,
   "metadata": {},
   "outputs": [
    {
     "data": {
      "text/html": [
       "<div>\n",
       "<style>\n",
       "    .dataframe thead tr:only-child th {\n",
       "        text-align: right;\n",
       "    }\n",
       "\n",
       "    .dataframe thead th {\n",
       "        text-align: left;\n",
       "    }\n",
       "\n",
       "    .dataframe tbody tr th {\n",
       "        vertical-align: top;\n",
       "    }\n",
       "</style>\n",
       "<table border=\"1\" class=\"dataframe\">\n",
       "  <thead>\n",
       "    <tr style=\"text-align: right;\">\n",
       "      <th></th>\n",
       "      <th>question</th>\n",
       "    </tr>\n",
       "  </thead>\n",
       "  <tbody>\n",
       "    <tr>\n",
       "      <th>1</th>\n",
       "      <td>Can you move all the dividers?</td>\n",
       "    </tr>\n",
       "    <tr>\n",
       "      <th>0</th>\n",
       "      <td>can you fit make up brushes in the trays</td>\n",
       "    </tr>\n",
       "    <tr>\n",
       "      <th>3</th>\n",
       "      <td>How deep do the extending trays measure?</td>\n",
       "    </tr>\n",
       "    <tr>\n",
       "      <th>2</th>\n",
       "      <td>is the surface in side the smooth?</td>\n",
       "    </tr>\n",
       "    <tr>\n",
       "      <th>4</th>\n",
       "      <td>Can bottles of nail polish stand upright in th...</td>\n",
       "    </tr>\n",
       "  </tbody>\n",
       "</table>\n",
       "</div>"
      ],
      "text/plain": [
       "                                            question\n",
       "1                     Can you move all the dividers?\n",
       "0           can you fit make up brushes in the trays\n",
       "3           How deep do the extending trays measure?\n",
       "2                 is the surface in side the smooth?\n",
       "4  Can bottles of nail polish stand upright in th..."
      ]
     },
     "execution_count": 65,
     "metadata": {},
     "output_type": "execute_result"
    }
   ],
   "source": [
    "df"
   ]
  },
  {
   "cell_type": "code",
   "execution_count": 66,
   "metadata": {},
   "outputs": [
    {
     "name": "stdout",
     "output_type": "stream",
     "text": [
      "[['Can', 'you', 'move', 'all', 'the', 'dividers', '?'], ['can', 'you', 'fit', 'make', 'up', 'brushes', 'in', 'the', 'trays'], ['How', 'deep', 'do', 'the', 'extending', 'trays', 'measure', '?'], ['is', 'the', 'surface', 'in', 'side', 'the', 'smooth', '?'], ['Can', 'bottles', 'of', 'nail', 'polish', 'stand', 'upright', 'in', 'the', 'top', 'trays', 'when', 'the', 'case', 'is', 'closed', '?']]\n"
     ]
    }
   ],
   "source": [
    "corpus = [word_tokenize(qq) for qq in df.question]\n",
    "print corpus"
   ]
  },
  {
   "cell_type": "code",
   "execution_count": 33,
   "metadata": {},
   "outputs": [],
   "source": [
    "query = 'can you fit make up brushes in the trays'\n",
    "query = word_tokenize(query)"
   ]
  },
  {
   "cell_type": "code",
   "execution_count": 37,
   "metadata": {},
   "outputs": [
    {
     "name": "stdout",
     "output_type": "stream",
     "text": [
      "[[8.218268050239953, 0.6784651656575756, 0.5731701798310884, 0.4937293054282699, 0.8200348325452234], [0.6784651656575756, 5.584574478807616, 0.5731701798310884, 0.4937293054282699, 1.0047706927745292], [0.7405939581424049, 0.7405939581424049, 5.805585020098082, 0.7405939581424049, 1.5779408726056177], [0.4937293054282699, 0.4937293054282699, 0.5731701798310884, 7.786667537296512, 0.8200348325452234], [0.9874586108565399, 1.1721944710858456, 1.5779408726056177, 0.9874586108565399, 16.34855319657141]]\n"
     ]
    }
   ],
   "source": [
    "bm25 = BM25(corpus)\n",
    "print get_bm25_weights(corpus)\n",
    "\n",
    "average_idf = sum(float(val) for val in bm25.idf.values()) / float(len(bm25.idf))\n",
    "\n",
    "scores = bm25.get_scores(query, average_idf)"
   ]
  },
  {
   "cell_type": "code",
   "execution_count": 38,
   "metadata": {},
   "outputs": [
    {
     "data": {
      "text/plain": [
       "33"
      ]
     },
     "execution_count": 38,
     "metadata": {},
     "output_type": "execute_result"
    }
   ],
   "source": [
    "len(bm25.idf)"
   ]
  },
  {
   "cell_type": "code",
   "execution_count": 67,
   "metadata": {},
   "outputs": [],
   "source": [
    "df['scores'] = scores"
   ]
  },
  {
   "cell_type": "code",
   "execution_count": 68,
   "metadata": {},
   "outputs": [
    {
     "data": {
      "text/html": [
       "<div>\n",
       "<style>\n",
       "    .dataframe thead tr:only-child th {\n",
       "        text-align: right;\n",
       "    }\n",
       "\n",
       "    .dataframe thead th {\n",
       "        text-align: left;\n",
       "    }\n",
       "\n",
       "    .dataframe tbody tr th {\n",
       "        vertical-align: top;\n",
       "    }\n",
       "</style>\n",
       "<table border=\"1\" class=\"dataframe\">\n",
       "  <thead>\n",
       "    <tr style=\"text-align: right;\">\n",
       "      <th></th>\n",
       "      <th>question</th>\n",
       "      <th>scores</th>\n",
       "    </tr>\n",
       "  </thead>\n",
       "  <tbody>\n",
       "    <tr>\n",
       "      <th>1</th>\n",
       "      <td>Can you move all the dividers?</td>\n",
       "      <td>8.218268</td>\n",
       "    </tr>\n",
       "    <tr>\n",
       "      <th>0</th>\n",
       "      <td>can you fit make up brushes in the trays</td>\n",
       "      <td>0.678465</td>\n",
       "    </tr>\n",
       "    <tr>\n",
       "      <th>3</th>\n",
       "      <td>How deep do the extending trays measure?</td>\n",
       "      <td>0.573170</td>\n",
       "    </tr>\n",
       "    <tr>\n",
       "      <th>2</th>\n",
       "      <td>is the surface in side the smooth?</td>\n",
       "      <td>0.493729</td>\n",
       "    </tr>\n",
       "    <tr>\n",
       "      <th>4</th>\n",
       "      <td>Can bottles of nail polish stand upright in th...</td>\n",
       "      <td>0.820035</td>\n",
       "    </tr>\n",
       "  </tbody>\n",
       "</table>\n",
       "</div>"
      ],
      "text/plain": [
       "                                            question    scores\n",
       "1                     Can you move all the dividers?  8.218268\n",
       "0           can you fit make up brushes in the trays  0.678465\n",
       "3           How deep do the extending trays measure?  0.573170\n",
       "2                 is the surface in side the smooth?  0.493729\n",
       "4  Can bottles of nail polish stand upright in th...  0.820035"
      ]
     },
     "execution_count": 68,
     "metadata": {},
     "output_type": "execute_result"
    }
   ],
   "source": [
    "df"
   ]
  },
  {
   "cell_type": "code",
   "execution_count": 80,
   "metadata": {},
   "outputs": [
    {
     "data": {
      "text/plain": [
       "{'0': 0.67846516565757564,\n",
       " '1': 8.2182680502399528,\n",
       " '2': 0.49372930542826993,\n",
       " '3': 0.57317017983108842,\n",
       " '4': 0.82003483254522336}"
      ]
     },
     "execution_count": 80,
     "metadata": {},
     "output_type": "execute_result"
    }
   ],
   "source": [
    "{qid:score for qid, score in zip(df.index, df.scores)}"
   ]
  },
  {
   "cell_type": "code",
   "execution_count": 20,
   "metadata": {},
   "outputs": [
    {
     "data": {
      "text/plain": [
       "0.7698146721371393"
      ]
     },
     "execution_count": 20,
     "metadata": {},
     "output_type": "execute_result"
    }
   ],
   "source": [
    "average_idf"
   ]
  },
  {
   "cell_type": "code",
   "execution_count": 21,
   "metadata": {},
   "outputs": [
    {
     "data": {
      "text/plain": [
       "33"
      ]
     },
     "execution_count": 21,
     "metadata": {},
     "output_type": "execute_result"
    }
   ],
   "source": [
    "len(bm25.idf)"
   ]
  },
  {
   "cell_type": "code",
   "execution_count": 22,
   "metadata": {},
   "outputs": [
    {
     "ename": "NameError",
     "evalue": "name 'result' is not defined",
     "output_type": "error",
     "traceback": [
      "\u001b[0;31m---------------------------------------------------------------------------\u001b[0m",
      "\u001b[0;31mNameError\u001b[0m                                 Traceback (most recent call last)",
      "\u001b[0;32m<ipython-input-22-a5b1e83cd027>\u001b[0m in \u001b[0;36m<module>\u001b[0;34m()\u001b[0m\n\u001b[0;32m----> 1\u001b[0;31m \u001b[0mresult\u001b[0m\u001b[0;34m\u001b[0m\u001b[0m\n\u001b[0m",
      "\u001b[0;31mNameError\u001b[0m: name 'result' is not defined"
     ]
    }
   ],
   "source": [
    "result"
   ]
  },
  {
   "cell_type": "code",
   "execution_count": 24,
   "metadata": {},
   "outputs": [
    {
     "data": {
      "text/plain": [
       "{'?': -1.0986122886681098,\n",
       " 'Can': 0.33647223662121295,\n",
       " 'How': 1.0986122886681098,\n",
       " 'all': 1.0986122886681098,\n",
       " 'bottles': 1.0986122886681098,\n",
       " 'brushes': 1.0986122886681098,\n",
       " 'can': 1.0986122886681098,\n",
       " 'case': 1.0986122886681098,\n",
       " 'closed': 1.0986122886681098,\n",
       " 'deep': 1.0986122886681098,\n",
       " 'dividers': 1.0986122886681098,\n",
       " 'do': 1.0986122886681098,\n",
       " 'extending': 1.0986122886681098,\n",
       " 'fit': 1.0986122886681098,\n",
       " 'in': -0.33647223662121295,\n",
       " 'is': 0.33647223662121295,\n",
       " 'make': 1.0986122886681098,\n",
       " 'measure': 1.0986122886681098,\n",
       " 'move': 1.0986122886681098,\n",
       " 'nail': 1.0986122886681098,\n",
       " 'of': 1.0986122886681098,\n",
       " 'polish': 1.0986122886681098,\n",
       " 'side': 1.0986122886681098,\n",
       " 'smooth': 1.0986122886681098,\n",
       " 'stand': 1.0986122886681098,\n",
       " 'surface': 1.0986122886681098,\n",
       " 'the': -2.3978952727983707,\n",
       " 'top': 1.0986122886681098,\n",
       " 'trays': -0.33647223662121295,\n",
       " 'up': 1.0986122886681098,\n",
       " 'upright': 1.0986122886681098,\n",
       " 'when': 1.0986122886681098,\n",
       " 'you': 0.33647223662121295}"
      ]
     },
     "execution_count": 24,
     "metadata": {},
     "output_type": "execute_result"
    }
   ],
   "source": [
    "get"
   ]
  },
  {
   "cell_type": "code",
   "execution_count": null,
   "metadata": {},
   "outputs": [],
   "source": [
    "[{u'_id': ObjectId('5a43e217f1cca02c9b602e78'),\n",
    "  u'answer': u\"I would actually say its a mix. I used this for my hair and I mix it with water, olive oil and honey in an applicator bottle. It works really great but there was definitely a residue of grit in the bottle of the bottle and after rinsing it out at the bottom of the shower. It rinses out fine but I wouldn't use it on my face only my hair.\",\n",
    "  u'answerTime': u'Jan 4, 2015',\n",
    "  u'answerType': u'Y',\n",
    "  u'asin': u'B004C7U9GW',\n",
    "  u'question': u\"Is this a powder? It says 'powder' but them some report it is gritty. My facial make up is a powder and it - in no way - feels gritty.\",\n",
    "  u'questionType': u'yes/no',\n",
    "  u'unixTime': 1420358400},\n",
    " {u'_id': ObjectId('5a43e21cf1cca02c9b605749'),\n",
    "  u'answer': u\"I don't know if it has been tested for unwanted minerals, but since clay is a absorber type material and not a release type of material, personally I would not be as concerned. Heavy metals should be a concern in the food we eat and the water we drink, but I doubt they would be absorbed into the skin, since this is a clay product. Taken internally or in contact with a mucus membrane, could be a different story. The label states this clay has the highest content of silica, magnesium, potassium, calcium and because of it's extraordinary absorption qualities it can be used as a detoxifier cleanser, skin conditioner, shampoo, facial and body mask. I use it with organic rose water for a clay facial mask. it really helps to clarify pores. I find mixing it with organic rose water on my mature skin it is not too drying but of course I avoid the delicate skin of the eye area and follow up with organic oil of some type. Hope this helps you some.\",\n",
    "  u'answerTime': u'Mar 27, 2014',\n",
    "  u'answerType': u'Y',\n",
    "  u'asin': u'B004C7U9GW',\n",
    "  u'question': u'Has this been tested in a lab to be certain there is no unwanted minerals, such as heavy metals?',\n",
    "  u'questionType': u'yes/no',\n",
    "  u'unixTime': 1395903600}]"
   ]
  },
  {
   "cell_type": "code",
   "execution_count": 25,
   "metadata": {},
   "outputs": [],
   "source": [
    "df = pd.read_csv('test.csv')"
   ]
  },
  {
   "cell_type": "code",
   "execution_count": 51,
   "metadata": {},
   "outputs": [
    {
     "data": {
      "text/html": [
       "<div>\n",
       "<style>\n",
       "    .dataframe thead tr:only-child th {\n",
       "        text-align: right;\n",
       "    }\n",
       "\n",
       "    .dataframe thead th {\n",
       "        text-align: left;\n",
       "    }\n",
       "\n",
       "    .dataframe tbody tr th {\n",
       "        vertical-align: top;\n",
       "    }\n",
       "</style>\n",
       "<table border=\"1\" class=\"dataframe\">\n",
       "  <thead>\n",
       "    <tr style=\"text-align: right;\">\n",
       "      <th></th>\n",
       "      <th>Unnamed: 0</th>\n",
       "      <th>answer</th>\n",
       "      <th>answerTime</th>\n",
       "      <th>answerType</th>\n",
       "      <th>asin</th>\n",
       "      <th>id</th>\n",
       "      <th>question</th>\n",
       "      <th>questionType</th>\n",
       "      <th>score</th>\n",
       "      <th>unixTime</th>\n",
       "      <th>similarity_score</th>\n",
       "      <th>bm25_score</th>\n",
       "      <th>sentiment_score</th>\n",
       "      <th>sentiment_type</th>\n",
       "    </tr>\n",
       "  </thead>\n",
       "  <tbody>\n",
       "    <tr>\n",
       "      <th>0</th>\n",
       "      <td>0</td>\n",
       "      <td>All over! Buy it its worth every penny.</td>\n",
       "      <td>Mar 10, 2014</td>\n",
       "      <td>?</td>\n",
       "      <td>B00028OSI0</td>\n",
       "      <td>5a43e1d1f1cca02c6f5dfc0e</td>\n",
       "      <td>can I use this on my face?</td>\n",
       "      <td>yes/no</td>\n",
       "      <td>2.0</td>\n",
       "      <td>1394434800</td>\n",
       "      <td>0.529995</td>\n",
       "      <td>0</td>\n",
       "      <td>0</td>\n",
       "      <td>0</td>\n",
       "    </tr>\n",
       "  </tbody>\n",
       "</table>\n",
       "</div>"
      ],
      "text/plain": [
       "   Unnamed: 0                                   answer    answerTime  \\\n",
       "0           0  All over! Buy it its worth every penny.  Mar 10, 2014   \n",
       "\n",
       "  answerType        asin                        id  \\\n",
       "0          ?  B00028OSI0  5a43e1d1f1cca02c6f5dfc0e   \n",
       "\n",
       "                     question questionType  score    unixTime  \\\n",
       "0  can I use this on my face?       yes/no    2.0  1394434800   \n",
       "\n",
       "   similarity_score  bm25_score  sentiment_score  sentiment_type  \n",
       "0          0.529995           0                0               0  "
      ]
     },
     "execution_count": 51,
     "metadata": {},
     "output_type": "execute_result"
    }
   ],
   "source": [
    "df"
   ]
  },
  {
   "cell_type": "code",
   "execution_count": 27,
   "metadata": {},
   "outputs": [],
   "source": [
    "NEGATIVE, NEUTRAL, POSITIVE = -1, 0, 1"
   ]
  },
  {
   "cell_type": "code",
   "execution_count": 52,
   "metadata": {},
   "outputs": [],
   "source": [
    "def get_type(series):\n",
    "    \"\"\"\n",
    "    Calculates sentiment of a reviewText and returns Sentiment score and Sentiment Type\n",
    "    :param doc:\n",
    "    :return:\n",
    "    \"\"\"\n",
    "    doc = str(series['answer'])\n",
    "    \n",
    "\n",
    "    senti_score = TextBlob(doc).sentiment.polarity\n",
    "\n",
    "    if senti_score > 0:\n",
    "        senti_type = POSITIVE\n",
    "    elif senti_score < 0:\n",
    "        senti_type = NEGATIVE\n",
    "    else:\n",
    "        senti_type = NEUTRAL\n",
    "\n",
    "    return pd.Series({CONST.COL_SCORE: senti_score, CONST.COL_TYPE: senti_type})\n"
   ]
  },
  {
   "cell_type": "code",
   "execution_count": 29,
   "metadata": {},
   "outputs": [
    {
     "data": {
      "text/plain": [
       "sentiment_score    0.3\n",
       "sentiment_type     1.0\n",
       "dtype: float64"
      ]
     },
     "execution_count": 29,
     "metadata": {},
     "output_type": "execute_result"
    }
   ],
   "source": [
    "get_type(df['answer'].iloc[0])"
   ]
  },
  {
   "cell_type": "code",
   "execution_count": 53,
   "metadata": {
    "scrolled": true
   },
   "outputs": [],
   "source": [
    "df[[CONST.COL_SCORE, CONST.COL_TYPE]] = df.apply(get_type, axis=1)"
   ]
  },
  {
   "cell_type": "code",
   "execution_count": 54,
   "metadata": {},
   "outputs": [
    {
     "data": {
      "text/html": [
       "<div>\n",
       "<style>\n",
       "    .dataframe thead tr:only-child th {\n",
       "        text-align: right;\n",
       "    }\n",
       "\n",
       "    .dataframe thead th {\n",
       "        text-align: left;\n",
       "    }\n",
       "\n",
       "    .dataframe tbody tr th {\n",
       "        vertical-align: top;\n",
       "    }\n",
       "</style>\n",
       "<table border=\"1\" class=\"dataframe\">\n",
       "  <thead>\n",
       "    <tr style=\"text-align: right;\">\n",
       "      <th></th>\n",
       "      <th>Unnamed: 0</th>\n",
       "      <th>answer</th>\n",
       "      <th>answerTime</th>\n",
       "      <th>answerType</th>\n",
       "      <th>asin</th>\n",
       "      <th>id</th>\n",
       "      <th>question</th>\n",
       "      <th>questionType</th>\n",
       "      <th>score</th>\n",
       "      <th>unixTime</th>\n",
       "      <th>similarity_score</th>\n",
       "      <th>bm25_score</th>\n",
       "      <th>sentiment_score</th>\n",
       "      <th>sentiment_type</th>\n",
       "    </tr>\n",
       "  </thead>\n",
       "  <tbody>\n",
       "    <tr>\n",
       "      <th>0</th>\n",
       "      <td>0</td>\n",
       "      <td>All over! Buy it its worth every penny.</td>\n",
       "      <td>Mar 10, 2014</td>\n",
       "      <td>?</td>\n",
       "      <td>B00028OSI0</td>\n",
       "      <td>5a43e1d1f1cca02c6f5dfc0e</td>\n",
       "      <td>can I use this on my face?</td>\n",
       "      <td>yes/no</td>\n",
       "      <td>2.0</td>\n",
       "      <td>1394434800</td>\n",
       "      <td>0.529995</td>\n",
       "      <td>0</td>\n",
       "      <td>0.3</td>\n",
       "      <td>1.0</td>\n",
       "    </tr>\n",
       "  </tbody>\n",
       "</table>\n",
       "</div>"
      ],
      "text/plain": [
       "   Unnamed: 0                                   answer    answerTime  \\\n",
       "0           0  All over! Buy it its worth every penny.  Mar 10, 2014   \n",
       "\n",
       "  answerType        asin                        id  \\\n",
       "0          ?  B00028OSI0  5a43e1d1f1cca02c6f5dfc0e   \n",
       "\n",
       "                     question questionType  score    unixTime  \\\n",
       "0  can I use this on my face?       yes/no    2.0  1394434800   \n",
       "\n",
       "   similarity_score  bm25_score  sentiment_score  sentiment_type  \n",
       "0          0.529995           0              0.3             1.0  "
      ]
     },
     "execution_count": 54,
     "metadata": {},
     "output_type": "execute_result"
    }
   ],
   "source": [
    "df"
   ]
  },
  {
   "cell_type": "code",
   "execution_count": null,
   "metadata": {},
   "outputs": [],
   "source": []
  }
 ],
 "metadata": {
  "kernelspec": {
   "display_name": "Python 2",
   "language": "python",
   "name": "python2"
  },
  "language_info": {
   "codemirror_mode": {
    "name": "ipython",
    "version": 2
   },
   "file_extension": ".py",
   "mimetype": "text/x-python",
   "name": "python",
   "nbconvert_exporter": "python",
   "pygments_lexer": "ipython2",
   "version": "2.7.14"
  }
 },
 "nbformat": 4,
 "nbformat_minor": 2
}

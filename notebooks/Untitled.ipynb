{
 "cells": [
  {
   "cell_type": "code",
   "execution_count": 41,
   "metadata": {},
   "outputs": [],
   "source": [
    "from gensim.summarization.bm25 import BM25, get_bm25_weights\n",
    "from nltk.tokenize import word_tokenize"
   ]
  },
  {
   "cell_type": "code",
   "execution_count": 42,
   "metadata": {},
   "outputs": [],
   "source": [
    "corpus = ['can you fit make up brushes in the trays',\n",
    "'Can you move all the dividers?',\n",
    "'is the surface in side the smooth?',\n",
    "'How deep do the extending trays measure?',\n",
    "'Can bottles of nail polish stand upright in the top trays when the case is closed?']"
   ]
  },
  {
   "cell_type": "code",
   "execution_count": 43,
   "metadata": {},
   "outputs": [
    {
     "name": "stdout",
     "output_type": "stream",
     "text": [
      "[['can', 'you', 'fit', 'make', 'up', 'brushes', 'in', 'the', 'trays'], ['Can', 'you', 'move', 'all', 'the', 'dividers', '?'], ['is', 'the', 'surface', 'in', 'side', 'the', 'smooth', '?'], ['How', 'deep', 'do', 'the', 'extending', 'trays', 'measure', '?'], ['Can', 'bottles', 'of', 'nail', 'polish', 'stand', 'upright', 'in', 'the', 'top', 'trays', 'when', 'the', 'case', 'is', 'closed', '?']]\n"
     ]
    }
   ],
   "source": [
    "corpus = [word_tokenize(qq) for qq in corpus]\n",
    "print corpus"
   ]
  },
  {
   "cell_type": "code",
   "execution_count": 33,
   "metadata": {},
   "outputs": [],
   "source": [
    "query = 'can you fit make up brushes in the trays'\n",
    "query = word_tokenize(query)"
   ]
  },
  {
   "cell_type": "code",
   "execution_count": 37,
   "metadata": {},
   "outputs": [
    {
     "name": "stdout",
     "output_type": "stream",
     "text": [
      "[[8.218268050239953, 0.6784651656575756, 0.5731701798310884, 0.4937293054282699, 0.8200348325452234], [0.6784651656575756, 5.584574478807616, 0.5731701798310884, 0.4937293054282699, 1.0047706927745292], [0.7405939581424049, 0.7405939581424049, 5.805585020098082, 0.7405939581424049, 1.5779408726056177], [0.4937293054282699, 0.4937293054282699, 0.5731701798310884, 7.786667537296512, 0.8200348325452234], [0.9874586108565399, 1.1721944710858456, 1.5779408726056177, 0.9874586108565399, 16.34855319657141]]\n"
     ]
    }
   ],
   "source": [
    "bm25 = BM25(corpus)\n",
    "print get_bm25_weights(corpus)\n",
    "\n",
    "average_idf = sum(float(val) for val in bm25.idf.values()) / float(len(bm25.idf))\n",
    "\n",
    "scores = bm25.get_scores(query, average_idf)"
   ]
  },
  {
   "cell_type": "code",
   "execution_count": 38,
   "metadata": {},
   "outputs": [
    {
     "data": {
      "text/plain": [
       "33"
      ]
     },
     "execution_count": 38,
     "metadata": {},
     "output_type": "execute_result"
    }
   ],
   "source": [
    "len(bm25.idf)"
   ]
  },
  {
   "cell_type": "code",
   "execution_count": 39,
   "metadata": {},
   "outputs": [
    {
     "data": {
      "text/plain": [
       "[8.218268050239953,\n",
       " 0.6784651656575756,\n",
       " 0.5731701798310884,\n",
       " 0.4937293054282699,\n",
       " 0.8200348325452234]"
      ]
     },
     "execution_count": 39,
     "metadata": {},
     "output_type": "execute_result"
    }
   ],
   "source": [
    "scores"
   ]
  },
  {
   "cell_type": "code",
   "execution_count": 20,
   "metadata": {},
   "outputs": [
    {
     "data": {
      "text/plain": [
       "0.7698146721371393"
      ]
     },
     "execution_count": 20,
     "metadata": {},
     "output_type": "execute_result"
    }
   ],
   "source": [
    "average_idf"
   ]
  },
  {
   "cell_type": "code",
   "execution_count": 21,
   "metadata": {},
   "outputs": [
    {
     "data": {
      "text/plain": [
       "33"
      ]
     },
     "execution_count": 21,
     "metadata": {},
     "output_type": "execute_result"
    }
   ],
   "source": [
    "len(bm25.idf)"
   ]
  },
  {
   "cell_type": "code",
   "execution_count": 22,
   "metadata": {},
   "outputs": [
    {
     "ename": "NameError",
     "evalue": "name 'result' is not defined",
     "output_type": "error",
     "traceback": [
      "\u001b[0;31m---------------------------------------------------------------------------\u001b[0m",
      "\u001b[0;31mNameError\u001b[0m                                 Traceback (most recent call last)",
      "\u001b[0;32m<ipython-input-22-a5b1e83cd027>\u001b[0m in \u001b[0;36m<module>\u001b[0;34m()\u001b[0m\n\u001b[0;32m----> 1\u001b[0;31m \u001b[0mresult\u001b[0m\u001b[0;34m\u001b[0m\u001b[0m\n\u001b[0m",
      "\u001b[0;31mNameError\u001b[0m: name 'result' is not defined"
     ]
    }
   ],
   "source": [
    "result"
   ]
  },
  {
   "cell_type": "code",
   "execution_count": 24,
   "metadata": {},
   "outputs": [
    {
     "data": {
      "text/plain": [
       "{'?': -1.0986122886681098,\n",
       " 'Can': 0.33647223662121295,\n",
       " 'How': 1.0986122886681098,\n",
       " 'all': 1.0986122886681098,\n",
       " 'bottles': 1.0986122886681098,\n",
       " 'brushes': 1.0986122886681098,\n",
       " 'can': 1.0986122886681098,\n",
       " 'case': 1.0986122886681098,\n",
       " 'closed': 1.0986122886681098,\n",
       " 'deep': 1.0986122886681098,\n",
       " 'dividers': 1.0986122886681098,\n",
       " 'do': 1.0986122886681098,\n",
       " 'extending': 1.0986122886681098,\n",
       " 'fit': 1.0986122886681098,\n",
       " 'in': -0.33647223662121295,\n",
       " 'is': 0.33647223662121295,\n",
       " 'make': 1.0986122886681098,\n",
       " 'measure': 1.0986122886681098,\n",
       " 'move': 1.0986122886681098,\n",
       " 'nail': 1.0986122886681098,\n",
       " 'of': 1.0986122886681098,\n",
       " 'polish': 1.0986122886681098,\n",
       " 'side': 1.0986122886681098,\n",
       " 'smooth': 1.0986122886681098,\n",
       " 'stand': 1.0986122886681098,\n",
       " 'surface': 1.0986122886681098,\n",
       " 'the': -2.3978952727983707,\n",
       " 'top': 1.0986122886681098,\n",
       " 'trays': -0.33647223662121295,\n",
       " 'up': 1.0986122886681098,\n",
       " 'upright': 1.0986122886681098,\n",
       " 'when': 1.0986122886681098,\n",
       " 'you': 0.33647223662121295}"
      ]
     },
     "execution_count": 24,
     "metadata": {},
     "output_type": "execute_result"
    }
   ],
   "source": [
    "get"
   ]
  },
  {
   "cell_type": "code",
   "execution_count": null,
   "metadata": {},
   "outputs": [],
   "source": [
    "[{u'_id': ObjectId('5a43e217f1cca02c9b602e78'),\n",
    "  u'answer': u\"I would actually say its a mix. I used this for my hair and I mix it with water, olive oil and honey in an applicator bottle. It works really great but there was definitely a residue of grit in the bottle of the bottle and after rinsing it out at the bottom of the shower. It rinses out fine but I wouldn't use it on my face only my hair.\",\n",
    "  u'answerTime': u'Jan 4, 2015',\n",
    "  u'answerType': u'Y',\n",
    "  u'asin': u'B004C7U9GW',\n",
    "  u'question': u\"Is this a powder? It says 'powder' but them some report it is gritty. My facial make up is a powder and it - in no way - feels gritty.\",\n",
    "  u'questionType': u'yes/no',\n",
    "  u'unixTime': 1420358400},\n",
    " {u'_id': ObjectId('5a43e21cf1cca02c9b605749'),\n",
    "  u'answer': u\"I don't know if it has been tested for unwanted minerals, but since clay is a absorber type material and not a release type of material, personally I would not be as concerned. Heavy metals should be a concern in the food we eat and the water we drink, but I doubt they would be absorbed into the skin, since this is a clay product. Taken internally or in contact with a mucus membrane, could be a different story. The label states this clay has the highest content of silica, magnesium, potassium, calcium and because of it's extraordinary absorption qualities it can be used as a detoxifier cleanser, skin conditioner, shampoo, facial and body mask. I use it with organic rose water for a clay facial mask. it really helps to clarify pores. I find mixing it with organic rose water on my mature skin it is not too drying but of course I avoid the delicate skin of the eye area and follow up with organic oil of some type. Hope this helps you some.\",\n",
    "  u'answerTime': u'Mar 27, 2014',\n",
    "  u'answerType': u'Y',\n",
    "  u'asin': u'B004C7U9GW',\n",
    "  u'question': u'Has this been tested in a lab to be certain there is no unwanted minerals, such as heavy metals?',\n",
    "  u'questionType': u'yes/no',\n",
    "  u'unixTime': 1395903600}]"
   ]
  }
 ],
 "metadata": {
  "kernelspec": {
   "display_name": "Python 2",
   "language": "python",
   "name": "python2"
  },
  "language_info": {
   "codemirror_mode": {
    "name": "ipython",
    "version": 2
   },
   "file_extension": ".py",
   "mimetype": "text/x-python",
   "name": "python",
   "nbconvert_exporter": "python",
   "pygments_lexer": "ipython2",
   "version": "2.7.14"
  }
 },
 "nbformat": 4,
 "nbformat_minor": 2
}
